{
 "cells": [
  {
   "cell_type": "markdown",
   "metadata": {},
   "source": [
    "---\n",
    "\n",
    "_You are currently looking at **version 1.1** of this notebook. To download notebooks and datafiles, as well as get help on Jupyter notebooks in the Coursera platform, visit the [Jupyter Notebook FAQ](https://www.coursera.org/learn/python-machine-learning/resources/bANLa) course resource._\n",
    "\n",
    "---"
   ]
  },
  {
   "cell_type": "markdown",
   "metadata": {},
   "source": [
    "## Assignment 4 - Understanding and Predicting Property Maintenance Fines\n",
    "\n",
    "This assignment is based on a data challenge from the Michigan Data Science Team ([MDST](http://midas.umich.edu/mdst/)). \n",
    "\n",
    "The Michigan Data Science Team ([MDST](http://midas.umich.edu/mdst/)) and the Michigan Student Symposium for Interdisciplinary Statistical Sciences ([MSSISS](https://sites.lsa.umich.edu/mssiss/)) have partnered with the City of Detroit to help solve one of the most pressing problems facing Detroit - blight. [Blight violations](http://www.detroitmi.gov/How-Do-I/Report/Blight-Complaint-FAQs) are issued by the city to individuals who allow their properties to remain in a deteriorated condition. Every year, the city of Detroit issues millions of dollars in fines to residents and every year, many of these fines remain unpaid. Enforcing unpaid blight fines is a costly and tedious process, so the city wants to know: how can we increase blight ticket compliance?\n",
    "\n",
    "The first step in answering this question is understanding when and why a resident might fail to comply with a blight ticket. This is where predictive modeling comes in. For this assignment, your task is to predict whether a given blight ticket will be paid on time.\n",
    "\n",
    "All data for this assignment has been provided to us through the [Detroit Open Data Portal](https://data.detroitmi.gov/). **Only the data already included in your Coursera directory can be used for training the model for this assignment.** Nonetheless, we encourage you to look into data from other Detroit datasets to help inform feature creation and model selection. We recommend taking a look at the following related datasets:\n",
    "\n",
    "* [Building Permits](https://data.detroitmi.gov/Property-Parcels/Building-Permits/xw2a-a7tf)\n",
    "* [Trades Permits](https://data.detroitmi.gov/Property-Parcels/Trades-Permits/635b-dsgv)\n",
    "* [Improve Detroit: Submitted Issues](https://data.detroitmi.gov/Government/Improve-Detroit-Submitted-Issues/fwz3-w3yn)\n",
    "* [DPD: Citizen Complaints](https://data.detroitmi.gov/Public-Safety/DPD-Citizen-Complaints-2016/kahe-efs3)\n",
    "* [Parcel Map](https://data.detroitmi.gov/Property-Parcels/Parcel-Map/fxkw-udwf)\n",
    "\n",
    "___\n",
    "\n",
    "We provide you with two data files for use in training and validating your models: train.csv and test.csv. Each row in these two files corresponds to a single blight ticket, and includes information about when, why, and to whom each ticket was issued. The target variable is compliance, which is True if the ticket was paid early, on time, or within one month of the hearing data, False if the ticket was paid after the hearing date or not at all, and Null if the violator was found not responsible. Compliance, as well as a handful of other variables that will not be available at test-time, are only included in train.csv.\n",
    "\n",
    "Note: All tickets where the violators were found not responsible are not considered during evaluation. They are included in the training set as an additional source of data for visualization, and to enable unsupervised and semi-supervised approaches. However, they are not included in the test set.\n",
    "\n",
    "<br>\n",
    "\n",
    "**File descriptions** (Use only this data for training your model!)\n",
    "\n",
    "    readonly/train.csv - the training set (all tickets issued 2004-2011)\n",
    "    readonly/test.csv - the test set (all tickets issued 2012-2016)\n",
    "    readonly/addresses.csv & readonly/latlons.csv - mapping from ticket id to addresses, and from addresses to lat/lon coordinates. \n",
    "     Note: misspelled addresses may be incorrectly geolocated.\n",
    "\n",
    "<br>\n",
    "\n",
    "**Data fields**\n",
    "\n",
    "train.csv & test.csv\n",
    "\n",
    "    ticket_id - unique identifier for tickets\n",
    "    agency_name - Agency that issued the ticket\n",
    "    inspector_name - Name of inspector that issued the ticket\n",
    "    violator_name - Name of the person/organization that the ticket was issued to\n",
    "    violation_street_number, violation_street_name, violation_zip_code - Address where the violation occurred\n",
    "    mailing_address_str_number, mailing_address_str_name, city, state, zip_code, non_us_str_code, country - Mailing address of the violator\n",
    "    ticket_issued_date - Date and time the ticket was issued\n",
    "    hearing_date - Date and time the violator's hearing was scheduled\n",
    "    violation_code, violation_description - Type of violation\n",
    "    disposition - Judgment and judgement type\n",
    "    fine_amount - Violation fine amount, excluding fees\n",
    "    admin_fee - $20 fee assigned to responsible judgments\n",
    "state_fee - $10 fee assigned to responsible judgments\n",
    "    late_fee - 10% fee assigned to responsible judgments\n",
    "    discount_amount - discount applied, if any\n",
    "    clean_up_cost - DPW clean-up or graffiti removal cost\n",
    "    judgment_amount - Sum of all fines and fees\n",
    "    grafitti_status - Flag for graffiti violations\n",
    "    \n",
    "train.csv only\n",
    "\n",
    "    payment_amount - Amount paid, if any\n",
    "    payment_date - Date payment was made, if it was received\n",
    "    payment_status - Current payment status as of Feb 1 2017\n",
    "    balance_due - Fines and fees still owed\n",
    "    collection_status - Flag for payments in collections\n",
    "    compliance [target variable for prediction] \n",
    "     Null = Not responsible\n",
    "     0 = Responsible, non-compliant\n",
    "     1 = Responsible, compliant\n",
    "    compliance_detail - More information on why each ticket was marked compliant or non-compliant\n",
    "\n",
    "\n",
    "___\n",
    "\n",
    "## Evaluation\n",
    "\n",
    "Your predictions will be given as the probability that the corresponding blight ticket will be paid on time.\n",
    "\n",
    "The evaluation metric for this assignment is the Area Under the ROC Curve (AUC). \n",
    "\n",
    "Your grade will be based on the AUC score computed for your classifier. A model which with an AUROC of 0.7 passes this assignment, over 0.75 will recieve full points.\n",
    "___\n",
    "\n",
    "For this assignment, create a function that trains a model to predict blight ticket compliance in Detroit using `readonly/train.csv`. Using this model, return a series of length 61001 with the data being the probability that each corresponding ticket from `readonly/test.csv` will be paid, and the index being the ticket_id.\n",
    "\n",
    "Example:\n",
    "\n",
    "    ticket_id\n",
    "       284932    0.531842\n",
    "       285362    0.401958\n",
    "       285361    0.105928\n",
    "       285338    0.018572\n",
    "                 ...\n",
    "       376499    0.208567\n",
    "       376500    0.818759\n",
    "       369851    0.018528\n",
    "       Name: compliance, dtype: float32\n",
    "       \n",
    "### Hints\n",
    "\n",
    "* Make sure your code is working before submitting it to the autograder.\n",
    "\n",
    "* Print out your result to see whether there is anything weird (e.g., all probabilities are the same).\n",
    "\n",
    "* Generally the total runtime should be less than 10 mins. You should NOT use Neural Network related classifiers (e.g., MLPClassifier) in this question. \n",
    "\n",
    "* Try to avoid global variables. If you have other functions besides blight_model, you should move those functions inside the scope of blight_model.\n",
    "\n",
    "* Refer to the pinned threads in Week 4's discussion forum when there is something you could not figure it out."
   ]
  },
  {
   "cell_type": "code",
   "execution_count": 114,
   "metadata": {
    "collapsed": true
   },
   "outputs": [],
   "source": [
    "import pandas as pd\n",
    "import numpy as np\n",
    "from sklearn.model_selection import train_test_split\n",
    "from sklearn.ensemble import RandomForestClassifier\n",
    "from sklearn.ensemble import GradientBoostingClassifier\n",
    "from sklearn.tree import DecisionTreeClassifier\n",
    "from sklearn.linear_model import LogisticRegression\n",
    "from sklearn.preprocessing import LabelEncoder\n",
    "from sklearn.metrics import roc_auc_score\n",
    "from sklearn.model_selection import GridSearchCV\n",
    "from sklearn.preprocessing import MinMaxScaler\n",
    "from sklearn.dummy import DummyClassifier\n",
    "def blight_model():\n",
    "        \n",
    "    return # Your answer here"
   ]
  },
  {
   "cell_type": "code",
   "execution_count": 115,
   "metadata": {
    "collapsed": true
   },
   "outputs": [],
   "source": [
    "blight_model()"
   ]
  },
  {
   "cell_type": "code",
   "execution_count": 214,
   "metadata": {},
   "outputs": [],
   "source": [
    "train = pd.read_csv('train.csv',engine= 'python')\n",
    "#test = pd.read_csv('test.csv',engine = 'python',usecols=['late_fee','hearing_date','disposition','ticket_issued_date','violator_name','fine_amount','ticket_id'])\n",
    "lat_lons = pd.read_csv('latlons.csv',engine = 'python')\n",
    "address = pd.read_csv('addresses.csv',engine = 'python')\n"
   ]
  },
  {
   "cell_type": "code",
   "execution_count": 191,
   "metadata": {},
   "outputs": [],
   "source": [
    "address.set_index('address',inplace  = True)\n",
    "lat_lons.set_index('address',inplace = True)\n",
    "lat_address = pd.merge(lat_lons, address,left_index=True,right_index=True)\n",
    "lat_address = lat_address.reset_index().set_index('ticket_id')\n",
    "train = train.set_index('ticket_id')"
   ]
  },
  {
   "cell_type": "code",
   "execution_count": 192,
   "metadata": {},
   "outputs": [],
   "source": [
    "train_data = pd.merge(train,lat_address,left_index=True,right_index=True)\n",
    "drop_cols = ['violation_zip_code','country','non_us_str_code','compliance_detail','grafitti_status','collection_status','payment_status','payment_amount','payment_date','balance_due','clean_up_cost','discount_amount','admin_fee','state_fee']\n",
    "train_data = train_data.drop(drop_cols,axis = 1)\n"
   ]
  },
  {
   "cell_type": "code",
   "execution_count": 193,
   "metadata": {},
   "outputs": [
    {
     "output_type": "execute_result",
     "data": {
      "text/plain": "                                              agency_name      inspector_name  \\\nticket_id                                                                       \n22056      Buildings, Safety Engineering & Env Department     Sims, Martinzie   \n27586      Buildings, Safety Engineering & Env Department    Williams, Darrin   \n22046      Buildings, Safety Engineering & Env Department     Sims, Martinzie   \n18738      Buildings, Safety Engineering & Env Department    Williams, Darrin   \n18735      Buildings, Safety Engineering & Env Department    Williams, Darrin   \n...                                                   ...                 ...   \n285034                         Department of Public Works     McClain, Melvin   \n285106                         Department of Public Works         Zizi, Josue   \n285125                         Department of Public Works       Bell, Maydell   \n284881                         Department of Public Works       Johnson, Lois   \n284333                         Department of Public Works  Granberry, Aisha B   \n\n                                  violator_name  violation_street_number  \\\nticket_id                                                                  \n22056         INVESTMENT INC., MIDWEST MORTGAGE                   2900.0   \n27586                  Michigan, Covenant House                   4311.0   \n22046                            KASIMU, UKWELI                   6478.0   \n18738      Deerwood Development Group Inc, Deer                   8027.0   \n18735           Rafee Auto Services L.L.C., RAF                   8228.0   \n...                                         ...                      ...   \n285034                            MORRIS, KITAY                  13924.0   \n285106                         LUNDY, ANTONIO R                  20009.0   \n285125            CHRISTIAN CHURCH, BRIGHT STAR                   7152.0   \n284881                        INC., HANTZ GROUP                  17403.0   \n284333        AMERICAN INTERNATIONAL ASS. LL, .                  15634.0   \n\n          violation_street_name  mailing_address_str_number  \\\nticket_id                                                     \n22056                     TYLER                         3.0   \n27586                   CENTRAL                      2959.0   \n22046                NORTHFIELD                      2755.0   \n18738                 BRENTWOOD                       476.0   \n18735                MT ELLIOTT                      8228.0   \n...                         ...                         ...   \n285034                 WOODMONT                     13924.0   \n285106                NORTHLAWN                     18715.0   \n285125                  CHICAGO                      7152.0   \n284881               MT ELLIOTT                      1743.0   \n284333                   NOVARA                        72.0   \n\n          mailing_address_str_name       city state   zip_code  ...  \\\nticket_id                                                       ...   \n22056                    S. WICKER    CHICAGO    IL      60606  ...   \n27586           Martin Luther King    Detroit    MI      48208  ...   \n22046                      E. 17TH  LOG BEACH    CA  908041512  ...   \n18738                     Garfield    Clinton    MI      48038  ...   \n18735                  Mt. Elliott    Detroit    MI      48211  ...   \n...                            ...        ...   ...        ...  ...   \n285034                WOODMONT AVE    DETROIT    MI      48227  ...   \n285106                     MARLOWE    DETROIT    MI      48235  ...   \n285125                  W. CHICAGO    DETROIT    MI      48204  ...   \n284881                  MT ELLIOTT    DETROIT    MI      48212  ...   \n284333                    MANGROVE      CHICO    MI      95926  ...   \n\n                  hearing_date violation_code  \\\nticket_id                                       \n22056      2005-03-21 10:30:00      9-1-36(a)   \n27586      2005-05-06 13:30:00     61-63.0600   \n22046      2005-03-21 10:30:00      9-1-36(a)   \n18738      2005-02-22 15:00:00     61-63.0500   \n18735      2005-02-22 15:00:00     61-63.0100   \n...                        ...            ...   \n285034     2012-01-26 10:30:00     22-2-88(b)   \n285106     2012-02-03 09:00:00     22-2-88(b)   \n285125     2012-01-25 09:00:00     22-2-88(b)   \n284881     2012-02-07 13:30:00        22-2-61   \n284333     2012-01-05 09:00:00     22-2-88(b)   \n\n                                       violation_description  \\\nticket_id                                                      \n22056      Failure of owner to obtain certificate of comp...   \n27586      Failed To Secure Permit For Lawful Use Of Buil...   \n22046      Failure of owner to obtain certificate of comp...   \n18738         Failed To Secure Permit For Lawful Use Of Land   \n18735                  Noncompliance/Grant Condition/BZA/BSE   \n...                                                      ...   \n285034     Allowing bulk solid waste to lie or accumulate...   \n285106     Allowing bulk solid waste to lie or accumulate...   \n285125     Allowing bulk solid waste to lie or accumulate...   \n284881     Failure to secure City or Private solid waste ...   \n284333     Allowing bulk solid waste to lie or accumulate...   \n\n                            disposition fine_amount  late_fee  \\\nticket_id                                                       \n22056            Responsible by Default       250.0      25.0   \n27586      Responsible by Determination       750.0      75.0   \n22046            Responsible by Default       250.0      25.0   \n18738            Responsible by Default       750.0      75.0   \n18735            Responsible by Default       100.0      10.0   \n...                                 ...         ...       ...   \n285034           Responsible by Default       500.0      50.0   \n285106           Responsible by Default       200.0      20.0   \n285125           Responsible by Default       500.0      50.0   \n284881     Responsible by Determination       200.0       0.0   \n284333           Responsible by Default       200.0      20.0   \n\n           judgment_amount                       address        lat        lon  \nticket_id                                                                       \n22056                305.0        2900 tyler, Detroit MI  42.390729 -83.124268  \n27586                855.0      4311 central, Detroit MI  42.326937 -83.135118  \n22046                305.0   6478 northfield, Detroit MI  42.145257 -83.208233  \n18738                855.0    8027 brentwood, Detroit MI  42.433466 -83.023493  \n18735                140.0   8228 mt elliott, Detroit MI  42.388641 -83.037858  \n...                    ...                           ...        ...        ...  \n285034               580.0    13924 woodmont, Detroit MI  42.387270 -83.208856  \n285106               250.0   20009 northlawn, Detroit MI  42.440228 -83.154829  \n285125               580.0      7152 chicago, Detroit MI  42.366529 -83.141897  \n284881               230.0  17403 mt elliott, Detroit MI  42.422081 -83.038656  \n284333               250.0      15634 novara, Detroit MI  42.438867 -82.959888  \n\n[156997 rows x 21 columns]",
      "text/html": "<div>\n<style scoped>\n    .dataframe tbody tr th:only-of-type {\n        vertical-align: middle;\n    }\n\n    .dataframe tbody tr th {\n        vertical-align: top;\n    }\n\n    .dataframe thead th {\n        text-align: right;\n    }\n</style>\n<table border=\"1\" class=\"dataframe\">\n  <thead>\n    <tr style=\"text-align: right;\">\n      <th></th>\n      <th>agency_name</th>\n      <th>inspector_name</th>\n      <th>violator_name</th>\n      <th>violation_street_number</th>\n      <th>violation_street_name</th>\n      <th>mailing_address_str_number</th>\n      <th>mailing_address_str_name</th>\n      <th>city</th>\n      <th>state</th>\n      <th>zip_code</th>\n      <th>...</th>\n      <th>hearing_date</th>\n      <th>violation_code</th>\n      <th>violation_description</th>\n      <th>disposition</th>\n      <th>fine_amount</th>\n      <th>late_fee</th>\n      <th>judgment_amount</th>\n      <th>address</th>\n      <th>lat</th>\n      <th>lon</th>\n    </tr>\n    <tr>\n      <th>ticket_id</th>\n      <th></th>\n      <th></th>\n      <th></th>\n      <th></th>\n      <th></th>\n      <th></th>\n      <th></th>\n      <th></th>\n      <th></th>\n      <th></th>\n      <th></th>\n      <th></th>\n      <th></th>\n      <th></th>\n      <th></th>\n      <th></th>\n      <th></th>\n      <th></th>\n      <th></th>\n      <th></th>\n      <th></th>\n    </tr>\n  </thead>\n  <tbody>\n    <tr>\n      <th>22056</th>\n      <td>Buildings, Safety Engineering &amp; Env Department</td>\n      <td>Sims, Martinzie</td>\n      <td>INVESTMENT INC., MIDWEST MORTGAGE</td>\n      <td>2900.0</td>\n      <td>TYLER</td>\n      <td>3.0</td>\n      <td>S. WICKER</td>\n      <td>CHICAGO</td>\n      <td>IL</td>\n      <td>60606</td>\n      <td>...</td>\n      <td>2005-03-21 10:30:00</td>\n      <td>9-1-36(a)</td>\n      <td>Failure of owner to obtain certificate of comp...</td>\n      <td>Responsible by Default</td>\n      <td>250.0</td>\n      <td>25.0</td>\n      <td>305.0</td>\n      <td>2900 tyler, Detroit MI</td>\n      <td>42.390729</td>\n      <td>-83.124268</td>\n    </tr>\n    <tr>\n      <th>27586</th>\n      <td>Buildings, Safety Engineering &amp; Env Department</td>\n      <td>Williams, Darrin</td>\n      <td>Michigan, Covenant House</td>\n      <td>4311.0</td>\n      <td>CENTRAL</td>\n      <td>2959.0</td>\n      <td>Martin Luther King</td>\n      <td>Detroit</td>\n      <td>MI</td>\n      <td>48208</td>\n      <td>...</td>\n      <td>2005-05-06 13:30:00</td>\n      <td>61-63.0600</td>\n      <td>Failed To Secure Permit For Lawful Use Of Buil...</td>\n      <td>Responsible by Determination</td>\n      <td>750.0</td>\n      <td>75.0</td>\n      <td>855.0</td>\n      <td>4311 central, Detroit MI</td>\n      <td>42.326937</td>\n      <td>-83.135118</td>\n    </tr>\n    <tr>\n      <th>22046</th>\n      <td>Buildings, Safety Engineering &amp; Env Department</td>\n      <td>Sims, Martinzie</td>\n      <td>KASIMU, UKWELI</td>\n      <td>6478.0</td>\n      <td>NORTHFIELD</td>\n      <td>2755.0</td>\n      <td>E. 17TH</td>\n      <td>LOG BEACH</td>\n      <td>CA</td>\n      <td>908041512</td>\n      <td>...</td>\n      <td>2005-03-21 10:30:00</td>\n      <td>9-1-36(a)</td>\n      <td>Failure of owner to obtain certificate of comp...</td>\n      <td>Responsible by Default</td>\n      <td>250.0</td>\n      <td>25.0</td>\n      <td>305.0</td>\n      <td>6478 northfield, Detroit MI</td>\n      <td>42.145257</td>\n      <td>-83.208233</td>\n    </tr>\n    <tr>\n      <th>18738</th>\n      <td>Buildings, Safety Engineering &amp; Env Department</td>\n      <td>Williams, Darrin</td>\n      <td>Deerwood Development Group Inc, Deer</td>\n      <td>8027.0</td>\n      <td>BRENTWOOD</td>\n      <td>476.0</td>\n      <td>Garfield</td>\n      <td>Clinton</td>\n      <td>MI</td>\n      <td>48038</td>\n      <td>...</td>\n      <td>2005-02-22 15:00:00</td>\n      <td>61-63.0500</td>\n      <td>Failed To Secure Permit For Lawful Use Of Land</td>\n      <td>Responsible by Default</td>\n      <td>750.0</td>\n      <td>75.0</td>\n      <td>855.0</td>\n      <td>8027 brentwood, Detroit MI</td>\n      <td>42.433466</td>\n      <td>-83.023493</td>\n    </tr>\n    <tr>\n      <th>18735</th>\n      <td>Buildings, Safety Engineering &amp; Env Department</td>\n      <td>Williams, Darrin</td>\n      <td>Rafee Auto Services L.L.C., RAF</td>\n      <td>8228.0</td>\n      <td>MT ELLIOTT</td>\n      <td>8228.0</td>\n      <td>Mt. Elliott</td>\n      <td>Detroit</td>\n      <td>MI</td>\n      <td>48211</td>\n      <td>...</td>\n      <td>2005-02-22 15:00:00</td>\n      <td>61-63.0100</td>\n      <td>Noncompliance/Grant Condition/BZA/BSE</td>\n      <td>Responsible by Default</td>\n      <td>100.0</td>\n      <td>10.0</td>\n      <td>140.0</td>\n      <td>8228 mt elliott, Detroit MI</td>\n      <td>42.388641</td>\n      <td>-83.037858</td>\n    </tr>\n    <tr>\n      <th>...</th>\n      <td>...</td>\n      <td>...</td>\n      <td>...</td>\n      <td>...</td>\n      <td>...</td>\n      <td>...</td>\n      <td>...</td>\n      <td>...</td>\n      <td>...</td>\n      <td>...</td>\n      <td>...</td>\n      <td>...</td>\n      <td>...</td>\n      <td>...</td>\n      <td>...</td>\n      <td>...</td>\n      <td>...</td>\n      <td>...</td>\n      <td>...</td>\n      <td>...</td>\n      <td>...</td>\n    </tr>\n    <tr>\n      <th>285034</th>\n      <td>Department of Public Works</td>\n      <td>McClain, Melvin</td>\n      <td>MORRIS, KITAY</td>\n      <td>13924.0</td>\n      <td>WOODMONT</td>\n      <td>13924.0</td>\n      <td>WOODMONT AVE</td>\n      <td>DETROIT</td>\n      <td>MI</td>\n      <td>48227</td>\n      <td>...</td>\n      <td>2012-01-26 10:30:00</td>\n      <td>22-2-88(b)</td>\n      <td>Allowing bulk solid waste to lie or accumulate...</td>\n      <td>Responsible by Default</td>\n      <td>500.0</td>\n      <td>50.0</td>\n      <td>580.0</td>\n      <td>13924 woodmont, Detroit MI</td>\n      <td>42.387270</td>\n      <td>-83.208856</td>\n    </tr>\n    <tr>\n      <th>285106</th>\n      <td>Department of Public Works</td>\n      <td>Zizi, Josue</td>\n      <td>LUNDY, ANTONIO R</td>\n      <td>20009.0</td>\n      <td>NORTHLAWN</td>\n      <td>18715.0</td>\n      <td>MARLOWE</td>\n      <td>DETROIT</td>\n      <td>MI</td>\n      <td>48235</td>\n      <td>...</td>\n      <td>2012-02-03 09:00:00</td>\n      <td>22-2-88(b)</td>\n      <td>Allowing bulk solid waste to lie or accumulate...</td>\n      <td>Responsible by Default</td>\n      <td>200.0</td>\n      <td>20.0</td>\n      <td>250.0</td>\n      <td>20009 northlawn, Detroit MI</td>\n      <td>42.440228</td>\n      <td>-83.154829</td>\n    </tr>\n    <tr>\n      <th>285125</th>\n      <td>Department of Public Works</td>\n      <td>Bell, Maydell</td>\n      <td>CHRISTIAN CHURCH, BRIGHT STAR</td>\n      <td>7152.0</td>\n      <td>CHICAGO</td>\n      <td>7152.0</td>\n      <td>W. CHICAGO</td>\n      <td>DETROIT</td>\n      <td>MI</td>\n      <td>48204</td>\n      <td>...</td>\n      <td>2012-01-25 09:00:00</td>\n      <td>22-2-88(b)</td>\n      <td>Allowing bulk solid waste to lie or accumulate...</td>\n      <td>Responsible by Default</td>\n      <td>500.0</td>\n      <td>50.0</td>\n      <td>580.0</td>\n      <td>7152 chicago, Detroit MI</td>\n      <td>42.366529</td>\n      <td>-83.141897</td>\n    </tr>\n    <tr>\n      <th>284881</th>\n      <td>Department of Public Works</td>\n      <td>Johnson, Lois</td>\n      <td>INC., HANTZ GROUP</td>\n      <td>17403.0</td>\n      <td>MT ELLIOTT</td>\n      <td>1743.0</td>\n      <td>MT ELLIOTT</td>\n      <td>DETROIT</td>\n      <td>MI</td>\n      <td>48212</td>\n      <td>...</td>\n      <td>2012-02-07 13:30:00</td>\n      <td>22-2-61</td>\n      <td>Failure to secure City or Private solid waste ...</td>\n      <td>Responsible by Determination</td>\n      <td>200.0</td>\n      <td>0.0</td>\n      <td>230.0</td>\n      <td>17403 mt elliott, Detroit MI</td>\n      <td>42.422081</td>\n      <td>-83.038656</td>\n    </tr>\n    <tr>\n      <th>284333</th>\n      <td>Department of Public Works</td>\n      <td>Granberry, Aisha B</td>\n      <td>AMERICAN INTERNATIONAL ASS. LL, .</td>\n      <td>15634.0</td>\n      <td>NOVARA</td>\n      <td>72.0</td>\n      <td>MANGROVE</td>\n      <td>CHICO</td>\n      <td>MI</td>\n      <td>95926</td>\n      <td>...</td>\n      <td>2012-01-05 09:00:00</td>\n      <td>22-2-88(b)</td>\n      <td>Allowing bulk solid waste to lie or accumulate...</td>\n      <td>Responsible by Default</td>\n      <td>200.0</td>\n      <td>20.0</td>\n      <td>250.0</td>\n      <td>15634 novara, Detroit MI</td>\n      <td>42.438867</td>\n      <td>-82.959888</td>\n    </tr>\n  </tbody>\n</table>\n<p>156997 rows × 21 columns</p>\n</div>"
     },
     "metadata": {},
     "execution_count": 193
    }
   ],
   "source": [
    "train_data = train_data.dropna()\n",
    "y = train_data['compliance']\n",
    "X = train_data.drop('compliance',axis = 1)\n",
    "X\n"
   ]
  },
  {
   "cell_type": "code",
   "execution_count": 194,
   "metadata": {},
   "outputs": [
    {
     "output_type": "execute_result",
     "data": {
      "text/plain": "           agency_name  inspector_name  violator_name  \\\nticket_id                                               \n22056                0             125          36578   \n27586                0             153          54080   \n22046                0             125          40886   \n18738                0             153          21382   \n18735                0             153          65139   \n...                ...             ...            ...   \n285034               1              87          52365   \n285106               1             158          46337   \n285125               1               9          13372   \n284881               1              62          35727   \n284333               1              52           2621   \n\n           violation_street_number  violation_street_name  \\\nticket_id                                                   \n22056                         2570                   1565   \n27586                         3898                    290   \n22046                         5858                   1182   \n18738                         7084                    202   \n18735                         7276                   1147   \n...                            ...                    ...   \n285034                       11890                   1686   \n285106                       16846                   1183   \n285125                        6397                    318   \n284881                       14751                   1147   \n284333                       13435                   1190   \n\n           mailing_address_str_number  mailing_address_str_name  city  state  \\\nticket_id                                                                      \n22056                               2                     18876   507     15   \n27586                            2210                     13701   902     23   \n22046                            2062                      5969  1848      5   \n18738                             392                      8923   683     23   \n18735                            5358                     13854   902     23   \n...                               ...                       ...   ...    ...   \n285034                           7750                     25081   827     23   \n285106                          10260                     12692   827     23   \n285125                           4770                     23197   827     23   \n284881                           1330                     13539   827     23   \n284333                             64                     12530   509     23   \n\n           zip_code  ...  hearing_date  violation_code  violation_description  \\\nticket_id            ...                                                        \n22056          2180  ...           126             142                     69   \n27586          1534  ...           259              73                     47   \n22046          2882  ...           126             142                     69   \n18738          1348  ...            52              72                     48   \n18735          1539  ...            52              71                    151   \n...             ...  ...           ...             ...                    ...   \n285034         1584  ...          5914              46                      0   \n285106         1604  ...          5923              46                      0   \n285125         1526  ...          5910              46                      0   \n284881         1541  ...          5928              31                    126   \n284333         3293  ...          5878              46                      0   \n\n           disposition  fine_amount  late_fee  judgment_amount  address  \\\nticket_id                                                                 \n22056                2           13        12               21    43649   \n27586                3           23        21               35    49576   \n22046                2           13        12               21    58619   \n18738                2           23        21               35    63212   \n18735                2            6         5                9    64441   \n...                ...          ...       ...              ...      ...   \n285034               2           19        17               30    11367   \n285106               2           11        10               17    36756   \n285125               2           19        17               30    60512   \n284881               3           11         0               16    26065   \n284333               2           11        10               17    19639   \n\n             lat    lon  \nticket_id                \n22056      29815  32372  \n27586       3719  29083  \n22046          0  11263  \n18738      53626  50265  \n18735      28618  48436  \n...          ...    ...  \n285034     27778  11130  \n285106     57543  23139  \n285125     17220  26885  \n284881     47011  48328  \n284333     56747  61051  \n\n[156997 rows x 21 columns]",
      "text/html": "<div>\n<style scoped>\n    .dataframe tbody tr th:only-of-type {\n        vertical-align: middle;\n    }\n\n    .dataframe tbody tr th {\n        vertical-align: top;\n    }\n\n    .dataframe thead th {\n        text-align: right;\n    }\n</style>\n<table border=\"1\" class=\"dataframe\">\n  <thead>\n    <tr style=\"text-align: right;\">\n      <th></th>\n      <th>agency_name</th>\n      <th>inspector_name</th>\n      <th>violator_name</th>\n      <th>violation_street_number</th>\n      <th>violation_street_name</th>\n      <th>mailing_address_str_number</th>\n      <th>mailing_address_str_name</th>\n      <th>city</th>\n      <th>state</th>\n      <th>zip_code</th>\n      <th>...</th>\n      <th>hearing_date</th>\n      <th>violation_code</th>\n      <th>violation_description</th>\n      <th>disposition</th>\n      <th>fine_amount</th>\n      <th>late_fee</th>\n      <th>judgment_amount</th>\n      <th>address</th>\n      <th>lat</th>\n      <th>lon</th>\n    </tr>\n    <tr>\n      <th>ticket_id</th>\n      <th></th>\n      <th></th>\n      <th></th>\n      <th></th>\n      <th></th>\n      <th></th>\n      <th></th>\n      <th></th>\n      <th></th>\n      <th></th>\n      <th></th>\n      <th></th>\n      <th></th>\n      <th></th>\n      <th></th>\n      <th></th>\n      <th></th>\n      <th></th>\n      <th></th>\n      <th></th>\n      <th></th>\n    </tr>\n  </thead>\n  <tbody>\n    <tr>\n      <th>22056</th>\n      <td>0</td>\n      <td>125</td>\n      <td>36578</td>\n      <td>2570</td>\n      <td>1565</td>\n      <td>2</td>\n      <td>18876</td>\n      <td>507</td>\n      <td>15</td>\n      <td>2180</td>\n      <td>...</td>\n      <td>126</td>\n      <td>142</td>\n      <td>69</td>\n      <td>2</td>\n      <td>13</td>\n      <td>12</td>\n      <td>21</td>\n      <td>43649</td>\n      <td>29815</td>\n      <td>32372</td>\n    </tr>\n    <tr>\n      <th>27586</th>\n      <td>0</td>\n      <td>153</td>\n      <td>54080</td>\n      <td>3898</td>\n      <td>290</td>\n      <td>2210</td>\n      <td>13701</td>\n      <td>902</td>\n      <td>23</td>\n      <td>1534</td>\n      <td>...</td>\n      <td>259</td>\n      <td>73</td>\n      <td>47</td>\n      <td>3</td>\n      <td>23</td>\n      <td>21</td>\n      <td>35</td>\n      <td>49576</td>\n      <td>3719</td>\n      <td>29083</td>\n    </tr>\n    <tr>\n      <th>22046</th>\n      <td>0</td>\n      <td>125</td>\n      <td>40886</td>\n      <td>5858</td>\n      <td>1182</td>\n      <td>2062</td>\n      <td>5969</td>\n      <td>1848</td>\n      <td>5</td>\n      <td>2882</td>\n      <td>...</td>\n      <td>126</td>\n      <td>142</td>\n      <td>69</td>\n      <td>2</td>\n      <td>13</td>\n      <td>12</td>\n      <td>21</td>\n      <td>58619</td>\n      <td>0</td>\n      <td>11263</td>\n    </tr>\n    <tr>\n      <th>18738</th>\n      <td>0</td>\n      <td>153</td>\n      <td>21382</td>\n      <td>7084</td>\n      <td>202</td>\n      <td>392</td>\n      <td>8923</td>\n      <td>683</td>\n      <td>23</td>\n      <td>1348</td>\n      <td>...</td>\n      <td>52</td>\n      <td>72</td>\n      <td>48</td>\n      <td>2</td>\n      <td>23</td>\n      <td>21</td>\n      <td>35</td>\n      <td>63212</td>\n      <td>53626</td>\n      <td>50265</td>\n    </tr>\n    <tr>\n      <th>18735</th>\n      <td>0</td>\n      <td>153</td>\n      <td>65139</td>\n      <td>7276</td>\n      <td>1147</td>\n      <td>5358</td>\n      <td>13854</td>\n      <td>902</td>\n      <td>23</td>\n      <td>1539</td>\n      <td>...</td>\n      <td>52</td>\n      <td>71</td>\n      <td>151</td>\n      <td>2</td>\n      <td>6</td>\n      <td>5</td>\n      <td>9</td>\n      <td>64441</td>\n      <td>28618</td>\n      <td>48436</td>\n    </tr>\n    <tr>\n      <th>...</th>\n      <td>...</td>\n      <td>...</td>\n      <td>...</td>\n      <td>...</td>\n      <td>...</td>\n      <td>...</td>\n      <td>...</td>\n      <td>...</td>\n      <td>...</td>\n      <td>...</td>\n      <td>...</td>\n      <td>...</td>\n      <td>...</td>\n      <td>...</td>\n      <td>...</td>\n      <td>...</td>\n      <td>...</td>\n      <td>...</td>\n      <td>...</td>\n      <td>...</td>\n      <td>...</td>\n    </tr>\n    <tr>\n      <th>285034</th>\n      <td>1</td>\n      <td>87</td>\n      <td>52365</td>\n      <td>11890</td>\n      <td>1686</td>\n      <td>7750</td>\n      <td>25081</td>\n      <td>827</td>\n      <td>23</td>\n      <td>1584</td>\n      <td>...</td>\n      <td>5914</td>\n      <td>46</td>\n      <td>0</td>\n      <td>2</td>\n      <td>19</td>\n      <td>17</td>\n      <td>30</td>\n      <td>11367</td>\n      <td>27778</td>\n      <td>11130</td>\n    </tr>\n    <tr>\n      <th>285106</th>\n      <td>1</td>\n      <td>158</td>\n      <td>46337</td>\n      <td>16846</td>\n      <td>1183</td>\n      <td>10260</td>\n      <td>12692</td>\n      <td>827</td>\n      <td>23</td>\n      <td>1604</td>\n      <td>...</td>\n      <td>5923</td>\n      <td>46</td>\n      <td>0</td>\n      <td>2</td>\n      <td>11</td>\n      <td>10</td>\n      <td>17</td>\n      <td>36756</td>\n      <td>57543</td>\n      <td>23139</td>\n    </tr>\n    <tr>\n      <th>285125</th>\n      <td>1</td>\n      <td>9</td>\n      <td>13372</td>\n      <td>6397</td>\n      <td>318</td>\n      <td>4770</td>\n      <td>23197</td>\n      <td>827</td>\n      <td>23</td>\n      <td>1526</td>\n      <td>...</td>\n      <td>5910</td>\n      <td>46</td>\n      <td>0</td>\n      <td>2</td>\n      <td>19</td>\n      <td>17</td>\n      <td>30</td>\n      <td>60512</td>\n      <td>17220</td>\n      <td>26885</td>\n    </tr>\n    <tr>\n      <th>284881</th>\n      <td>1</td>\n      <td>62</td>\n      <td>35727</td>\n      <td>14751</td>\n      <td>1147</td>\n      <td>1330</td>\n      <td>13539</td>\n      <td>827</td>\n      <td>23</td>\n      <td>1541</td>\n      <td>...</td>\n      <td>5928</td>\n      <td>31</td>\n      <td>126</td>\n      <td>3</td>\n      <td>11</td>\n      <td>0</td>\n      <td>16</td>\n      <td>26065</td>\n      <td>47011</td>\n      <td>48328</td>\n    </tr>\n    <tr>\n      <th>284333</th>\n      <td>1</td>\n      <td>52</td>\n      <td>2621</td>\n      <td>13435</td>\n      <td>1190</td>\n      <td>64</td>\n      <td>12530</td>\n      <td>509</td>\n      <td>23</td>\n      <td>3293</td>\n      <td>...</td>\n      <td>5878</td>\n      <td>46</td>\n      <td>0</td>\n      <td>2</td>\n      <td>11</td>\n      <td>10</td>\n      <td>17</td>\n      <td>19639</td>\n      <td>56747</td>\n      <td>61051</td>\n    </tr>\n  </tbody>\n</table>\n<p>156997 rows × 21 columns</p>\n</div>"
     },
     "metadata": {},
     "execution_count": 194
    }
   ],
   "source": [
    "labels = list(X.columns)\n",
    "le = LabelEncoder()\n",
    "for label in labels:\n",
    "    X[label] = le.fit_transform(X[label])\n",
    "X"
   ]
  },
  {
   "cell_type": "code",
   "execution_count": 195,
   "metadata": {
    "tags": []
   },
   "outputs": [
    {
     "output_type": "stream",
     "name": "stdout",
     "text": "DecisionTreeClassifier()\n0.6724239540464096\nlate_fee                      0.134722\nhearing_date                  0.110769\nviolator_name                 0.068424\nticket_issued_date            0.067912\nmailing_address_str_number    0.066606\ndisposition                   0.066013\nviolation_street_number       0.060835\nlon                           0.060612\naddress                       0.056866\nlat                           0.056435\ndtype: float64\nRandomForestClassifier()\n0.653274303550972\nlate_fee                      0.096096\nhearing_date                  0.087403\nticket_issued_date            0.085395\ndisposition                   0.072429\nviolator_name                 0.063035\nlon                           0.060410\naddress                       0.060393\nlat                           0.060373\nviolation_street_number       0.059508\nmailing_address_str_number    0.059189\ndtype: float64\nGradientBoostingClassifier()\n0.6225522511534805\nlate_fee              0.494057\ndisposition           0.229570\nhearing_date          0.177993\njudgment_amount       0.035356\nticket_issued_date    0.016313\nfine_amount           0.008086\nlat                   0.007503\nlon                   0.004985\nagency_name           0.004489\nviolation_code        0.004371\ndtype: float64\n"
    }
   ],
   "source": [
    "models = [DecisionTreeClassifier(),RandomForestClassifier(),GradientBoostingClassifier()]\n",
    "X_train, X_test, y_train , y_test  = train_test_split(X,y,random_state = 0)\n",
    "cols = X.columns\n",
    "for model in models:\n",
    "    model.fit(X_train,y_train)\n",
    "    predict = model.predict(X_test)\n",
    "    score = roc_auc_score(y_test,predict)    \n",
    "    features = model.feature_importances_\n",
    "    features_importances = pd.Series(features,index= cols)\n",
    "    print(model)\n",
    "    print(score)\n",
    "    print(features_importances.nlargest(10))\n"
   ]
  },
  {
   "cell_type": "code",
   "execution_count": 196,
   "metadata": {
    "tags": []
   },
   "outputs": [
    {
     "output_type": "stream",
     "name": "stdout",
     "text": "DecisionTreeClassifier()\n0.6977306897188255\nRandomForestClassifier()\n0.6833265134378814\nGradientBoostingClassifier()\n0.6215894037292877\nLogisticRegression()\n0.5126157375293477\n"
    }
   ],
   "source": [
    "important_data = ['late_fee','hearing_date','disposition','ticket_issued_date','violator_name','fine_amount']\n",
    "new_data = pd.DataFrame(X['late_fee'])\n",
    "models = [DecisionTreeClassifier(),RandomForestClassifier(),GradientBoostingClassifier(),LogisticRegression()]\n",
    "for data in important_data:\n",
    "    new_data[data] = X[data]\n",
    "    new_data[data] = le.fit_transform(X[data])\n",
    "X_train2, X_test2, y_train2, y_test2 = train_test_split(new_data,y,random_state = 0)\n",
    "for model in models:\n",
    "    model.fit(X_train2,y_train2)\n",
    "    predict2 = model.predict(X_test2)\n",
    "    score = roc_auc_score(y_test2,predict2)\n",
    "    print(model)\n",
    "    print(score)\n",
    "\n"
   ]
  },
  {
   "cell_type": "code",
   "execution_count": 197,
   "metadata": {
    "tags": []
   },
   "outputs": [
    {
     "output_type": "stream",
     "name": "stdout",
     "text": "{'min_samples_leaf': 9}\n0.7546119605186465\n"
    }
   ],
   "source": [
    "grid = {'min_samples_leaf':[1,3,5,7,9]}\n",
    "model = DecisionTreeClassifier(random_state = 0)\n",
    "GRV = GridSearchCV(model,param_grid = grid,scoring = 'roc_auc')\n",
    "GRV.fit(X_train2,y_train2)\n",
    "print(GRV.best_params_)\n",
    "print(GRV.best_score_)\n"
   ]
  },
  {
   "cell_type": "code",
   "execution_count": 198,
   "metadata": {
    "tags": []
   },
   "outputs": [
    {
     "output_type": "stream",
     "name": "stdout",
     "text": "0.6987607651193973\n"
    }
   ],
   "source": [
    "DT = DecisionTreeClassifier().fit(X_train2,y_train2)\n",
    "predict3 = DT.predict(X_test2)\n",
    "score = roc_auc_score(y_test2,predict3)\n",
    "print(score)"
   ]
  },
  {
   "cell_type": "code",
   "execution_count": 218,
   "metadata": {},
   "outputs": [
    {
     "output_type": "execute_result",
     "data": {
      "text/plain": "           violator_name  ticket_issued_date  hearing_date  disposition  \\\nticket_id                                                                 \n284932             12328                   0             0            5   \n285362             36194                   2             7            5   \n285361             36194                   2             7            5   \n285338             14945                   4            10            5   \n285346              7925                   3            20            5   \n...                  ...                 ...           ...          ...   \n376496             33809               33060          3305            5   \n376497             33809               33061          3305            5   \n376499              3972               33062          3302            5   \n376500             36524               33063          3302            5   \n369851             20523               30920          3102            5   \n\n           fine_amount  late_fee  \nticket_id                         \n284932              15        14  \n285362               2         2  \n285361               1         1  \n285338              15        14  \n285346               1         1  \n...                ...       ...  \n376496               2         2  \n376497               2         2  \n376499               1         1  \n376500               1         1  \n369851              39         0  \n\n[61001 rows x 6 columns]",
      "text/html": "<div>\n<style scoped>\n    .dataframe tbody tr th:only-of-type {\n        vertical-align: middle;\n    }\n\n    .dataframe tbody tr th {\n        vertical-align: top;\n    }\n\n    .dataframe thead th {\n        text-align: right;\n    }\n</style>\n<table border=\"1\" class=\"dataframe\">\n  <thead>\n    <tr style=\"text-align: right;\">\n      <th></th>\n      <th>violator_name</th>\n      <th>ticket_issued_date</th>\n      <th>hearing_date</th>\n      <th>disposition</th>\n      <th>fine_amount</th>\n      <th>late_fee</th>\n    </tr>\n    <tr>\n      <th>ticket_id</th>\n      <th></th>\n      <th></th>\n      <th></th>\n      <th></th>\n      <th></th>\n      <th></th>\n    </tr>\n  </thead>\n  <tbody>\n    <tr>\n      <th>284932</th>\n      <td>12328</td>\n      <td>0</td>\n      <td>0</td>\n      <td>5</td>\n      <td>15</td>\n      <td>14</td>\n    </tr>\n    <tr>\n      <th>285362</th>\n      <td>36194</td>\n      <td>2</td>\n      <td>7</td>\n      <td>5</td>\n      <td>2</td>\n      <td>2</td>\n    </tr>\n    <tr>\n      <th>285361</th>\n      <td>36194</td>\n      <td>2</td>\n      <td>7</td>\n      <td>5</td>\n      <td>1</td>\n      <td>1</td>\n    </tr>\n    <tr>\n      <th>285338</th>\n      <td>14945</td>\n      <td>4</td>\n      <td>10</td>\n      <td>5</td>\n      <td>15</td>\n      <td>14</td>\n    </tr>\n    <tr>\n      <th>285346</th>\n      <td>7925</td>\n      <td>3</td>\n      <td>20</td>\n      <td>5</td>\n      <td>1</td>\n      <td>1</td>\n    </tr>\n    <tr>\n      <th>...</th>\n      <td>...</td>\n      <td>...</td>\n      <td>...</td>\n      <td>...</td>\n      <td>...</td>\n      <td>...</td>\n    </tr>\n    <tr>\n      <th>376496</th>\n      <td>33809</td>\n      <td>33060</td>\n      <td>3305</td>\n      <td>5</td>\n      <td>2</td>\n      <td>2</td>\n    </tr>\n    <tr>\n      <th>376497</th>\n      <td>33809</td>\n      <td>33061</td>\n      <td>3305</td>\n      <td>5</td>\n      <td>2</td>\n      <td>2</td>\n    </tr>\n    <tr>\n      <th>376499</th>\n      <td>3972</td>\n      <td>33062</td>\n      <td>3302</td>\n      <td>5</td>\n      <td>1</td>\n      <td>1</td>\n    </tr>\n    <tr>\n      <th>376500</th>\n      <td>36524</td>\n      <td>33063</td>\n      <td>3302</td>\n      <td>5</td>\n      <td>1</td>\n      <td>1</td>\n    </tr>\n    <tr>\n      <th>369851</th>\n      <td>20523</td>\n      <td>30920</td>\n      <td>3102</td>\n      <td>5</td>\n      <td>39</td>\n      <td>0</td>\n    </tr>\n  </tbody>\n</table>\n<p>61001 rows × 6 columns</p>\n</div>"
     },
     "metadata": {},
     "execution_count": 218
    }
   ],
   "source": [
    "test = pd.read_csv('test.csv',engine = 'python',usecols=['late_fee','hearing_date','disposition','ticket_issued_date','violator_name','fine_amount','ticket_id'])\n",
    "test.set_index('ticket_id',inplace = True)\n",
    "test.fillna(method='pad')\n",
    "test['violator_name'] = test['violator_name'].str.replace('\\d','')\n",
    "test['disposition'] = test['disposition'].str.replace('\\d','')\n",
    "for label in important_data:\n",
    "    test[label] = le.fit_transform(test[label].astype(str))\n",
    " "
   ]
  },
  {
   "cell_type": "code",
   "execution_count": 223,
   "metadata": {},
   "outputs": [
    {
     "output_type": "execute_result",
     "data": {
      "text/plain": "ticket_id\n22056     125\n27586     153\n22046     125\n18738     153\n18735     153\n         ... \n285034     87\n285106    158\n285125      9\n284881     62\n284333     52\nName: inspector_name, Length: 156997, dtype: object"
     },
     "metadata": {},
     "execution_count": 223
    }
   ],
   "source": [
    "X.astype(str)\n",
    "X['inspector_name'].astype(str)"
   ]
  },
  {
   "cell_type": "code",
   "execution_count": null,
   "metadata": {},
   "outputs": [],
   "source": []
  }
 ],
 "metadata": {
  "coursera": {
   "course_slug": "python-machine-learning",
   "graded_item_id": "nNS8l",
   "launcher_item_id": "yWWk7",
   "part_id": "w8BSS"
  },
  "kernelspec": {
   "display_name": "Python 3",
   "language": "python",
   "name": "python3"
  },
  "language_info": {
   "codemirror_mode": {
    "name": "ipython",
    "version": 3
   },
   "file_extension": ".py",
   "mimetype": "text/x-python",
   "name": "python",
   "nbconvert_exporter": "python",
   "pygments_lexer": "ipython3",
   "version": "3.8.2-final"
  }
 },
 "nbformat": 4,
 "nbformat_minor": 2
}